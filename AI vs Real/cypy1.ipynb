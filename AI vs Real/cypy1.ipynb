{
 "cells": [
  {
   "cell_type": "code",
   "execution_count": 1,
   "id": "54a02a09-9104-4149-bb18-e28fc95e6a8b",
   "metadata": {
    "id": "54a02a09-9104-4149-bb18-e28fc95e6a8b"
   },
   "outputs": [],
   "source": [
    "import numpy as np\n",
    "from PIL import Image\n",
    "\n",
    "import torch\n",
    "import torch.nn as nn\n",
    "import torch.nn.functional as F\n",
    "import torch.optim as optim\n",
    "\n",
    "import torchvision\n",
    "import torchvision.transforms as transforms\n",
    "from torch.utils.data import DataLoader\n",
    "from torchvision.datasets import ImageFolder"
   ]
  },
  {
   "cell_type": "code",
   "execution_count": 2,
   "id": "oI9Bzdod0Doh",
   "metadata": {
    "colab": {
     "base_uri": "https://localhost:8080/"
    },
    "id": "oI9Bzdod0Doh",
    "outputId": "4687628b-b66f-40ef-9576-0436c699162c"
   },
   "outputs": [
    {
     "name": "stdout",
     "output_type": "stream",
     "text": [
      "Using device: cuda\n"
     ]
    }
   ],
   "source": [
    "device = torch.device('cuda' if torch.cuda.is_available() else 'cpu')\n",
    "print(f'Using device: {device}')"
   ]
  },
  {
   "cell_type": "code",
   "execution_count": 3,
   "id": "0ad0d13e-b225-45f5-af05-638afb1d9152",
   "metadata": {
    "id": "0ad0d13e-b225-45f5-af05-638afb1d9152"
   },
   "outputs": [],
   "source": [
    "transform=transforms.Compose([\n",
    "    transforms.Resize((200,200)),\n",
    "    transforms.ToTensor(),\n",
    "    transforms.Normalize((0.5,0.5,0.5),(0.5,0.5,0.5))\n",
    "])"
   ]
  },
  {
   "cell_type": "code",
   "execution_count": 4,
   "id": "9f300a2f-8489-4094-b146-bfccebe231f8",
   "metadata": {
    "id": "9f300a2f-8489-4094-b146-bfccebe231f8"
   },
   "outputs": [],
   "source": [
    "train_data = ImageFolder(root='data/Train/', transform=transform)\n",
    "train_loader=torch.utils.data.DataLoader(train_data,batch_size=16,shuffle=True,num_workers=2)"
   ]
  },
  {
   "cell_type": "code",
   "execution_count": 5,
   "id": "f88c6b82-63c4-41c4-9e8f-1620866f9f9c",
   "metadata": {
    "id": "f88c6b82-63c4-41c4-9e8f-1620866f9f9c"
   },
   "outputs": [],
   "source": [
    "class_names=['AI', 'Real']"
   ]
  },
  {
   "cell_type": "code",
   "execution_count": 6,
   "id": "21ae197e",
   "metadata": {},
   "outputs": [],
   "source": [
    "class NeuralNet(nn.Module):\n",
    "    def __init__(self):\n",
    "        super().__init__()\n",
    "\n",
    "        self.conv1=nn.Conv2d(3,12,5) \n",
    "        self.pool=nn.MaxPool2d(2,2)  \n",
    "        self.conv2=nn.Conv2d(12,24,5) \n",
    "        self.conv3=nn.Conv2d(24,48,5)\n",
    "        self.conv4=nn.Conv2d(48,96,5)\n",
    "        self.fc1=nn.Linear(96*8*8,2000)\n",
    "        self.fc2=nn.Linear(2000,1000)\n",
    "        self.fc3=nn.Linear(1000,500)\n",
    "        self.fc4=nn.Linear(500,256)\n",
    "        self.fc5=nn.Linear(256,64)\n",
    "        self.fc6=nn.Linear(64,16)\n",
    "        self.fc7=nn.Linear(16,2)\n",
    "\n",
    "    def forward(self, x):\n",
    "       x=self.pool(F.relu(self.conv1(x)))\n",
    "       x=self.pool(F.relu(self.conv2(x)))\n",
    "       x=self.pool(F.relu(self.conv3(x)))\n",
    "       x=self.pool(F.relu(self.conv4(x)))\n",
    "       x=torch.flatten(x,1)\n",
    "       x=F.relu(self.fc1(x))\n",
    "       x=F.relu(self.fc2(x))\n",
    "       x=F.relu(self.fc3(x))\n",
    "       x=F.relu(self.fc4(x))\n",
    "       x=F.relu(self.fc5(x))\n",
    "       x=F.relu(self.fc6(x))\n",
    "       x=self.fc7(x)\n",
    "       return x\n"
   ]
  },
  {
   "cell_type": "code",
   "execution_count": 7,
   "id": "8b07a3e8-6d90-4dcc-b238-902c6aa475c7",
   "metadata": {
    "id": "8b07a3e8-6d90-4dcc-b238-902c6aa475c7"
   },
   "outputs": [],
   "source": [
    "net=NeuralNet().to(device)\n",
    "loss_function=nn.CrossEntropyLoss()\n",
    "optimizer=optim.Adam(net.parameters(),lr=0.001, weight_decay=1e-5)"
   ]
  },
  {
   "cell_type": "code",
   "execution_count": 8,
   "id": "d0c523d6-c27c-4522-af98-e25b58e9bd60",
   "metadata": {
    "colab": {
     "base_uri": "https://localhost:8080/"
    },
    "id": "d0c523d6-c27c-4522-af98-e25b58e9bd60",
    "outputId": "5a948487-f37e-4f91-8f95-e04eb0461f5e"
   },
   "outputs": [
    {
     "name": "stdout",
     "output_type": "stream",
     "text": [
      "Training epoch 0..\n",
      "Epoch 1: Loss = 0.5476, Accuracy = 76.40%\n",
      "Training epoch 1..\n",
      "Epoch 2: Loss = 0.4301, Accuracy = 82.59%\n",
      "Training epoch 2..\n",
      "Epoch 3: Loss = 0.3789, Accuracy = 84.53%\n",
      "Training epoch 3..\n",
      "Epoch 4: Loss = 0.3109, Accuracy = 87.12%\n",
      "Training epoch 4..\n",
      "Epoch 5: Loss = 0.2653, Accuracy = 90.79%\n",
      "Training epoch 5..\n",
      "Epoch 6: Loss = 0.1618, Accuracy = 94.68%\n",
      "Training epoch 6..\n",
      "Epoch 7: Loss = 0.1609, Accuracy = 94.82%\n",
      "Training epoch 7..\n",
      "Epoch 8: Loss = 0.0661, Accuracy = 97.99%\n",
      "Training epoch 8..\n",
      "Epoch 9: Loss = 0.0612, Accuracy = 98.27%\n",
      "Training epoch 9..\n",
      "Epoch 10: Loss = 0.0400, Accuracy = 98.56%\n",
      "Training epoch 10..\n",
      "Epoch 11: Loss = 0.1522, Accuracy = 97.55%\n",
      "Training epoch 11..\n",
      "Epoch 12: Loss = 0.0430, Accuracy = 98.56%\n",
      "Training epoch 12..\n",
      "Epoch 13: Loss = 0.0539, Accuracy = 98.42%\n",
      "Training epoch 13..\n",
      "Epoch 14: Loss = 0.0434, Accuracy = 98.78%\n",
      "Training epoch 14..\n",
      "Epoch 15: Loss = 0.0637, Accuracy = 98.85%\n"
     ]
    }
   ],
   "source": [
    "for epoch in range(15):\n",
    "    print(f'Training epoch {epoch}..')\n",
    "\n",
    "    running_loss = 0.0\n",
    "    correct = 0\n",
    "    total = 0\n",
    "\n",
    "    for i, data in enumerate(train_loader):\n",
    "        inputs, labels = data\n",
    "        inputs, labels = inputs.to(device), labels.to(device)\n",
    "\n",
    "        optimizer.zero_grad()\n",
    "        outputs = net(inputs)\n",
    "\n",
    "        loss = loss_function(outputs, labels)\n",
    "        loss.backward()\n",
    "        optimizer.step()\n",
    "\n",
    "        running_loss += loss.item()\n",
    "\n",
    "        _, predicted = torch.max(outputs, 1)\n",
    "        total += labels.size(0)\n",
    "        correct += (predicted == labels).sum().item()\n",
    "\n",
    "    epoch_loss = running_loss / len(train_loader)\n",
    "    epoch_accuracy = 100 * correct / total\n",
    "\n",
    "    print(f'Epoch {epoch + 1}: Loss = {epoch_loss:.4f}, Accuracy = {epoch_accuracy:.2f}%')"
   ]
  },
  {
   "cell_type": "code",
   "execution_count": 9,
   "id": "hd7L6UqV48aA",
   "metadata": {
    "id": "hd7L6UqV48aA"
   },
   "outputs": [],
   "source": [
    "torch.save(net.state_dict(),'trained_net.pth')"
   ]
  },
  {
   "cell_type": "code",
   "execution_count": 10,
   "id": "ce3f30cf-a09a-45df-8b5e-de5b2081f913",
   "metadata": {
    "colab": {
     "base_uri": "https://localhost:8080/"
    },
    "id": "ce3f30cf-a09a-45df-8b5e-de5b2081f913",
    "outputId": "b4906d9f-4308-4201-b200-1c835162be03"
   },
   "outputs": [
    {
     "name": "stderr",
     "output_type": "stream",
     "text": [
      "C:\\Users\\srini\\AppData\\Local\\Temp\\ipykernel_6232\\617875171.py:2: FutureWarning: You are using `torch.load` with `weights_only=False` (the current default value), which uses the default pickle module implicitly. It is possible to construct malicious pickle data which will execute arbitrary code during unpickling (See https://github.com/pytorch/pytorch/blob/main/SECURITY.md#untrusted-models for more details). In a future release, the default value for `weights_only` will be flipped to `True`. This limits the functions that could be executed during unpickling. Arbitrary objects will no longer be allowed to be loaded via this mode unless they are explicitly allowlisted by the user via `torch.serialization.add_safe_globals`. We recommend you start setting `weights_only=True` for any use case where you don't have full control of the loaded file. Please open an issue on GitHub for any issues related to this experimental feature.\n",
      "  net.load_state_dict(torch.load('trained_net.pth'))\n"
     ]
    },
    {
     "data": {
      "text/plain": [
       "<All keys matched successfully>"
      ]
     },
     "execution_count": 10,
     "metadata": {},
     "output_type": "execute_result"
    }
   ],
   "source": [
    "net = NeuralNet().to(device)\n",
    "net.load_state_dict(torch.load('trained_net.pth'))"
   ]
  },
  {
   "cell_type": "code",
   "execution_count": 11,
   "id": "854d4518-1268-4f24-91aa-6747c633c27e",
   "metadata": {
    "colab": {
     "base_uri": "https://localhost:8080/"
    },
    "id": "854d4518-1268-4f24-91aa-6747c633c27e",
    "outputId": "57ac4947-6a84-4d40-a3d2-25434cb8fb08"
   },
   "outputs": [
    {
     "name": "stdout",
     "output_type": "stream",
     "text": [
      "Predictions saved to predictions.csv\n"
     ]
    }
   ],
   "source": [
    "import os\n",
    "import csv\n",
    "from PIL import Image\n",
    "\n",
    "def load_image(path, image_path):\n",
    "    full_path = os.path.join(path, image_path)\n",
    "    image = Image.open(full_path).convert(\"RGB\")\n",
    "    image = transform(image)\n",
    "    image = image.unsqueeze(0).to(device)  \n",
    "    return image\n",
    "\n",
    "# Paths and configurations\n",
    "path = 'data/Test/'\n",
    "output_csv_path = 'predictions.csv'\n",
    "\n",
    "image_paths = [f for f in os.listdir(path) if os.path.isfile(os.path.join(path, f))]\n",
    "image_paths.sort()  \n",
    "\n",
    "predictions = []\n",
    "net.eval()\n",
    "with torch.no_grad():\n",
    "    for img_path in image_paths:\n",
    "        image = load_image(path, img_path)\n",
    "        output = net(image)\n",
    "        _, predicted = torch.max(output, 1)\n",
    "        predictions.append((img_path[:-4], class_names[predicted.item()]))\n",
    "\n",
    "with open(output_csv_path, mode='w', newline='') as file:\n",
    "    writer = csv.writer(file)\n",
    "    writer.writerow(['Id', 'Label'])  \n",
    "    writer.writerows(predictions)\n",
    "\n",
    "print(f\"Predictions saved to {output_csv_path}\")"
   ]
  }
 ],
 "metadata": {
  "accelerator": "GPU",
  "colab": {
   "gpuType": "T4",
   "provenance": []
  },
  "kernelspec": {
   "display_name": ".venv",
   "language": "python",
   "name": "python3"
  },
  "language_info": {
   "codemirror_mode": {
    "name": "ipython",
    "version": 3
   },
   "file_extension": ".py",
   "mimetype": "text/x-python",
   "name": "python",
   "nbconvert_exporter": "python",
   "pygments_lexer": "ipython3",
   "version": "3.12.8"
  }
 },
 "nbformat": 4,
 "nbformat_minor": 5
}
